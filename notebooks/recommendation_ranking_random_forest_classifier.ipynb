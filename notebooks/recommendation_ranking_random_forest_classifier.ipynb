{
 "cells": [
  {
   "cell_type": "code",
   "execution_count": 5,
   "id": "dad7b0f6-b147-4cd7-966d-ee9d25ee7df2",
   "metadata": {},
   "outputs": [
    {
     "name": "stdout",
     "output_type": "stream",
     "text": [
      "Model trained and saved!\n"
     ]
    }
   ],
   "source": [
    "#\n",
    "#\n",
    "# Train the model \n",
    "#\n",
    "#\n",
    "# train_model.py\n",
    "import pandas as pd #(for handling and processing tabular data.)\n",
    "from sklearn.ensemble import RandomForestClassifier #(ML mode from sklearn.ensemble , collection of decision trees)\n",
    "from sklearn.multioutput import MultiOutputClassifier#(wrapper that allows a classifier to handle multiple target)\n",
    "import joblib#(library to save and load Python objects and for store trined models)\n",
    "\n",
    "def train_graph_model(): \n",
    "    \n",
    "    df = pd.read_csv(\"Recommendation_graph_data.csv\") #Load the dataset ude for training \n",
    "    X = df[[\"num_num\", \"num_cat\", \"has_dt\"]] #features\n",
    "    #number of numerical,categorical,boolean flag indicating datetime\n",
    "    y = df.drop(columns=[\"num_num\", \"num_cat\", \"has_dt\"]) #Labels (Drop feature columns to get lables\n",
    "    \n",
    "    # Train model\n",
    "    model = MultiOutputClassifier(\n",
    "        RandomForestClassifier(n_estimators=100, random_state=42) #use 100 decision trees #random_state - split happens in same way\n",
    "    )\n",
    "    model.fit(X, y) #trains the model on the dataset\n",
    "    \n",
    "    # Save model\n",
    "    joblib.dump(model, \"graph_recommender_model.pkl\") #save as .pkl file\n",
    "    print(\"Model trained and saved!\")\n",
    "\n",
    "if __name__ == \"__main__\":#Run it directly → Code runs. #Import it → Code does not run.\n",
    "\n",
    "\n",
    "    train_graph_model()"
   ]
  },
  {
   "cell_type": "code",
   "execution_count": 1,
   "id": "0d73fae5-6f2b-47e5-b8eb-e71275a3fa57",
   "metadata": {},
   "outputs": [
    {
     "name": "stdout",
     "output_type": "stream",
     "text": [
      "\n",
      "Available columns: ['PassengerId', 'Survived', 'Pclass', 'Name', 'Sex', 'Age', 'SibSp', 'Parch', 'Ticket', 'Fare', 'Cabin', 'Embarked']\n"
     ]
    },
    {
     "name": "stdin",
     "output_type": "stream",
     "text": [
      "Enter columns (comma-separated):  Age,Fare\n"
     ]
    },
    {
     "name": "stdout",
     "output_type": "stream",
     "text": [
      "\n",
      "Recommended Graph Types:\n",
      "- Scatter\n"
     ]
    }
   ],
   "source": [
    "import pandas as pd #handle data\n",
    "import joblib #load pretrained models\n",
    "\n",
    "def analyze_columns(df):\n",
    "    num_num = 0\n",
    "    num_cat = 0\n",
    "    has_dt = 0 # number of columns( numerical,categorical, and has datetime)\n",
    "    \n",
    "    for col in df.columns: #df.columns-> dataset columns\n",
    "        dtype = df[col].dtype#type of coulumn int64,object(string),float\n",
    "        \n",
    "        if pd.api.types.is_numeric_dtype(dtype): #pandas API to mannupulate data types\n",
    "            num_num += 1\n",
    "        else:\n",
    "           \n",
    "            temp_col = pd.to_datetime(df[col], errors=\"coerce\")#convert to datetime ,coerce-> Cannot convert replace with NAN\n",
    "\n",
    "            if temp_col.notna().sum() > 0:  # At least one valid datetime (sum of not a time rows),notna-> for check missing vlues\n",
    "                has_dt = 1\n",
    "            else:\n",
    "                num_cat += 1\n",
    "\n",
    "    return num_num, num_cat, has_dt\n",
    "\n",
    "\n",
    "def get_user_columns(dataset_path):#prompts the user to input column names from a dataset..This is passed by NLP part after SQL query generation\n",
    "    df = pd.read_csv(dataset_path)\n",
    "    print(\"\\nAvailable columns:\", df.columns.tolist())\n",
    "    \n",
    "    while True:\n",
    "        selected = input(\"Enter columns (comma-separated): \").strip().split(',')\n",
    "        selected = [col.strip() for col in selected]\n",
    "        valid_cols = [col for col in selected if col in df.columns]\n",
    "        \n",
    "        if valid_cols:\n",
    "            return valid_cols\n",
    "        print(\"Error: No valid columns selected. Try again.\") \n",
    "\n",
    "def main():\n",
    "    # Load model\n",
    "    model = joblib.load(\"graph_recommender_model.pkl\")\n",
    "    \n",
    "    # Get user input\n",
    "    dataset_path = \"Datasets/titanic.csv\" # User database\n",
    "    selected_cols = get_user_columns(dataset_path)\n",
    "    \n",
    "    # Analyze columns\n",
    "    df = pd.read_csv(dataset_path)[selected_cols]\n",
    "    num_num, num_cat, has_dt = analyze_columns(df)\n",
    "    \n",
    "    # Create input DataFrame with proper feature names\n",
    "    input_df = pd.DataFrame(\n",
    "        [[num_num, num_cat, has_dt]],\n",
    "        columns=[\"num_num\", \"num_cat\", \"has_dt\"]  # Match training feature names\n",
    "    )\n",
    "    \n",
    "    # Predict\n",
    "    pred = model.predict(input_df)\n",
    "    \n",
    "    # Show results\n",
    "    graphs = [\"Bar\", \"Line\", \"Scatter\", \"Area\", \"Histogram\", \"Box\", \n",
    "             \"Funnel\", \"Tree\", \"Pie\"]\n",
    "    recommendations = [g for g, p in zip(graphs, pred[0]) if p == 1]\n",
    "    \n",
    "    print(\"\\nRecommended Graph Types:\")\n",
    "    print(\"- \" + \"\\n- \".join(recommendations) if recommendations else \"No suitable graphs found\")\n",
    "\n",
    "if __name__ == \"__main__\":\n",
    "    main()"
   ]
  },
  {
   "cell_type": "code",
   "execution_count": null,
   "id": "c2363555-ee02-4c52-bb17-ffecb01ab1c3",
   "metadata": {},
   "outputs": [],
   "source": []
  },
  {
   "cell_type": "code",
   "execution_count": null,
   "id": "594c71df-378c-49fa-aa80-a5c4974b908b",
   "metadata": {},
   "outputs": [],
   "source": []
  }
 ],
 "metadata": {
  "kernelspec": {
   "display_name": "Python 3 (ipykernel)",
   "language": "python",
   "name": "python3"
  },
  "language_info": {
   "codemirror_mode": {
    "name": "ipython",
    "version": 3
   },
   "file_extension": ".py",
   "mimetype": "text/x-python",
   "name": "python",
   "nbconvert_exporter": "python",
   "pygments_lexer": "ipython3",
   "version": "3.12.7"
  }
 },
 "nbformat": 4,
 "nbformat_minor": 5
}
