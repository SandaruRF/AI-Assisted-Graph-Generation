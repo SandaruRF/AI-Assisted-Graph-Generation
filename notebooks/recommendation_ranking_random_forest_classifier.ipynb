{
 "cells": [
  {
   "cell_type": "markdown",
   "id": "f066d995-f295-452f-abe1-77e557429e14",
   "metadata": {},
   "source": [
    "Train the model"
   ]
  },
  {
   "cell_type": "code",
   "execution_count": 6,
   "id": "3900b543-5827-4269-a959-cba5771763be",
   "metadata": {},
   "outputs": [],
   "source": [
    "import pandas as pd \n",
    "from sklearn.ensemble import RandomForestClassifier\n",
    "from sklearn.multioutput import MultiOutputClassifier\n",
    "import joblib"
   ]
  },
  {
   "cell_type": "code",
   "execution_count": 7,
   "id": "dad7b0f6-b147-4cd7-966d-ee9d25ee7df2",
   "metadata": {},
   "outputs": [
    {
     "name": "stdout",
     "output_type": "stream",
     "text": [
      "Model trained and saved!\n"
     ]
    }
   ],
   "source": [
    "def train_graph_model(): \n",
    "    \n",
    "    df = pd.read_csv(\"Recommendation_graph_data.csv\")\n",
    "    X = df[[\"num_num\", \"num_cat\", \"has_dt\"]] \n",
    "    y = df.drop(columns=[\"num_num\", \"num_cat\", \"has_dt\"]) \n",
    "    \n",
    "    \n",
    "    model = MultiOutputClassifier(\n",
    "        RandomForestClassifier(n_estimators=100, random_state=42) \n",
    "    )\n",
    "    \n",
    "    model.fit(X, y)\n",
    "    \n",
    "   \n",
    "    joblib.dump(model, \"graph_recommender_model.pkl\")\n",
    "    print(\"Model trained and saved!\")\n",
    "\n",
    "if __name__ == \"__main__\":\n",
    "\n",
    "\n",
    "    train_graph_model()"
   ]
  },
  {
   "cell_type": "markdown",
   "id": "63936c5b-1be6-4eaf-8b32-26e2759e5967",
   "metadata": {},
   "source": [
    " Column Analysis"
   ]
  },
  {
   "cell_type": "code",
   "execution_count": 8,
   "id": "6903312f-a4ef-402b-b16d-69e4b3a3b31d",
   "metadata": {},
   "outputs": [],
   "source": [
    "def analyze_columns(df):\n",
    "    num_num = 0\n",
    "    num_cat = 0\n",
    "    has_dt = 0 \n",
    "    \n",
    "    for col in df.columns: \n",
    "        dtype = df[col].dtype\n",
    "        \n",
    "        if pd.api.types.is_numeric_dtype(dtype): \n",
    "            num_num += 1\n",
    "        else:\n",
    "           \n",
    "            temp_col = pd.to_datetime(df[col], errors=\"coerce\")\n",
    "\n",
    "            if temp_col.notna().sum() > 0: \n",
    "                has_dt = 1\n",
    "            else:\n",
    "                num_cat += 1\n",
    "\n",
    "    return num_num, num_cat, has_dt"
   ]
  },
  {
   "cell_type": "markdown",
   "id": "da280139-a555-423c-8a3f-201e3aeaeb14",
   "metadata": {},
   "source": [
    "Get user columns"
   ]
  },
  {
   "cell_type": "code",
   "execution_count": 9,
   "id": "01bfead1-30d4-4e9b-9a54-a4ddcf927c3d",
   "metadata": {},
   "outputs": [],
   "source": [
    "def get_user_columns(dataset_path):\n",
    "    df = pd.read_csv(dataset_path)\n",
    "    print(\"\\nAvailable columns:\", df.columns.tolist())\n",
    "    \n",
    "    while True:\n",
    "        selected = input(\"Enter columns (comma-separated): \").strip().split(',')\n",
    "        selected = [col.strip() for col in selected]\n",
    "        valid_cols = [col for col in selected if col in df.columns]\n",
    "        \n",
    "        if valid_cols:\n",
    "            return valid_cols\n",
    "        print(\"Error: No valid columns selected. Try again.\") "
   ]
  },
  {
   "cell_type": "code",
   "execution_count": null,
   "id": "162e11f0-7b20-4b7a-a933-29bf91969156",
   "metadata": {},
   "outputs": [],
   "source": [
    "Main function"
   ]
  },
  {
   "cell_type": "code",
   "execution_count": null,
   "id": "0d73fae5-6f2b-47e5-b8eb-e71275a3fa57",
   "metadata": {},
   "outputs": [
    {
     "name": "stdout",
     "output_type": "stream",
     "text": [
      "\n",
      "Available columns: ['PassengerId', 'Survived', 'Pclass', 'Name', 'Sex', 'Age', 'SibSp', 'Parch', 'Ticket', 'Fare', 'Cabin', 'Embarked']\n"
     ]
    }
   ],
   "source": [
    "def main():\n",
    "    \n",
    "    model = joblib.load(\"graph_recommender_model.pkl\")\n",
    "    \n",
    "  \n",
    "    dataset_path = \"Datasets/titanic.csv\" \n",
    "    selected_cols = get_user_columns(dataset_path)\n",
    "    \n",
    "    df = pd.read_csv(dataset_path)[selected_cols]\n",
    "    num_num, num_cat, has_dt = analyze_columns(df)\n",
    "    \n",
    "    input_df = pd.DataFrame(\n",
    "        [[num_num, num_cat, has_dt]],\n",
    "        columns=[\"num_num\", \"num_cat\", \"has_dt\"]  \n",
    "    )\n",
    "    \n",
    "    \n",
    "    pred = model.predict(input_df)\n",
    "    \n",
    "    graphs = [\"Bar\", \"Line\", \"Scatter\", \"Area\", \"Histogram\", \"Box\", \n",
    "             \"Funnel\", \"Tree\", \"Pie\"]\n",
    "    recommendations = [g for g, p in zip(graphs, pred[0]) if p == 1]\n",
    "    \n",
    "    print(\"\\nRecommended Graph Types:\")\n",
    "    print(\"- \" + \"\\n- \".join(recommendations) if recommendations else \"No suitable graphs found\")\n",
    "\n",
    "if __name__ == \"__main__\":\n",
    "    main()"
   ]
  },
  {
   "cell_type": "code",
   "execution_count": null,
   "id": "c2363555-ee02-4c52-bb17-ffecb01ab1c3",
   "metadata": {},
   "outputs": [],
   "source": []
  },
  {
   "cell_type": "code",
   "execution_count": null,
   "id": "594c71df-378c-49fa-aa80-a5c4974b908b",
   "metadata": {},
   "outputs": [],
   "source": []
  }
 ],
 "metadata": {
  "kernelspec": {
   "display_name": "Python 3 (ipykernel)",
   "language": "python",
   "name": "python3"
  },
  "language_info": {
   "codemirror_mode": {
    "name": "ipython",
    "version": 3
   },
   "file_extension": ".py",
   "mimetype": "text/x-python",
   "name": "python",
   "nbconvert_exporter": "python",
   "pygments_lexer": "ipython3",
   "version": "3.12.7"
  }
 },
 "nbformat": 4,
 "nbformat_minor": 5
}
