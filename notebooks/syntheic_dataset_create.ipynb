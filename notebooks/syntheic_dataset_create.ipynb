{
 "cells": [
  {
   "cell_type": "markdown",
   "id": "327f7daa-c48d-453a-a8fb-8f7d81a92579",
   "metadata": {},
   "source": [
    "Create synthetic dataset"
   ]
  },
  {
   "cell_type": "code",
   "execution_count": null,
   "id": "080e6692-b302-4030-b113-b5c6182914ee",
   "metadata": {},
   "outputs": [],
   "source": [
    "import pandas as pd\n",
    "import numpy as np"
   ]
  },
  {
   "cell_type": "markdown",
   "id": "67b78e18-f9b4-4a5e-b1ef-61959711aa96",
   "metadata": {},
   "source": [
    "Graph types:Bar, Line, Scatter, Area, Histogram, Box, Funnel, Tree, Pie"
   ]
  },
  {
   "cell_type": "code",
   "execution_count": null,
   "id": "0cea733d-7c4a-4b04-b93e-d442ca7734e6",
   "metadata": {},
   "outputs": [],
   "source": [
    "graph_types = [\"Bar\", \"Line\", \"Scatter\", \"Area\", \"Histogram\", \"Box\", \"Funnel\", \"Tree\", \"Pie\"]\n",
    "\n",
    "def create_synthetic_dataset():\n",
    "    data = []\n",
    "    for _ in range(2000):\n",
    "        num_num = np.random.randint(0, 5)  \n",
    "        num_cat = np.random.randint(0, 3)  \n",
    "        has_dt = np.random.choice([0, 1])  \n",
    "        \n",
    "        \n",
    "        suitable = []\n",
    "        if num_cat >= 1 and num_num >= 1:\n",
    "            suitable.extend([\"Bar\", \"Box\"])\n",
    "        if has_dt and num_num >= 1:\n",
    "            suitable.extend([\"Line\", \"Area\"])\n",
    "        if num_num >= 2:\n",
    "            suitable.append(\"Scatter\")\n",
    "        if num_num == 1 and num_cat == 0:\n",
    "            suitable.append(\"Histogram\") \n",
    "        if num_cat >= 1:\n",
    "            suitable.extend([\"Funnel\", \"Tree\"])\n",
    "        if num_cat == 1 and num_num == 0:\n",
    "            suitable.append(\"Pie\")\n",
    "            \n",
    "    \n",
    "        labels = [1 if g in suitable else 0 for g in graph_types]\n",
    "        data.append([num_num, num_cat, has_dt] + labels)\n",
    "    \n",
    "    df = pd.DataFrame(data, columns=[\"num_num\", \"num_cat\", \"has_dt\"] + graph_types)\n",
    "    df.to_csv(\"Recommendation_graph_data.csv\", index=False)\n",
    "    print(\"Synthetic dataset created!\")\n",
    "\n",
    "if __name__ == \"__main__\":\n",
    "    create_synthetic_dataset()"
   ]
  }
 ],
 "metadata": {
  "kernelspec": {
   "display_name": "Python 3 (ipykernel)",
   "language": "python",
   "name": "python3"
  },
  "language_info": {
   "codemirror_mode": {
    "name": "ipython",
    "version": 3
   },
   "file_extension": ".py",
   "mimetype": "text/x-python",
   "name": "python",
   "nbconvert_exporter": "python",
   "pygments_lexer": "ipython3",
   "version": "3.12.7"
  }
 },
 "nbformat": 4,
 "nbformat_minor": 5
}
